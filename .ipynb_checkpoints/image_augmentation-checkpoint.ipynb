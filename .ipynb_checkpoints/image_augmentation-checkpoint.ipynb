{
 "cells": [
  {
   "cell_type": "code",
   "execution_count": 1,
   "metadata": {},
   "outputs": [],
   "source": [
    "import cv2\n",
    "import numpy as np"
   ]
  },
  {
   "cell_type": "code",
   "execution_count": 2,
   "metadata": {},
   "outputs": [],
   "source": [
    "MIN_MATCHES = 20\n",
    "detector = cv2.ORB_create(nfeatures=5000)\n",
    "\n",
    "FLANN_INDEX_KDTREE = 1\n",
    "index_params = dict(algorithm = FLANN_INDEX_KDTREE, trees = 5)\n",
    "search_params = dict(checks=100)\n",
    "flann = cv2.FlannBasedMatcher(index_params,search_params)"
   ]
  },
  {
   "cell_type": "code",
   "execution_count": 3,
   "metadata": {},
   "outputs": [],
   "source": [
    "def load_input():\n",
    "    #input_image = cv2.imread('opencv_0.png')\n",
    "    input_image = cv2.imread('copy.jpg')\n",
    "    #augment_image = cv2.imread('ironman-helmet.png')\n",
    "    augment_image = cv2.imread('mask.jpg')\n",
    "\n",
    "    input_image = cv2.resize(input_image, (600,600),interpolation=cv2.INTER_AREA)\n",
    "    augment_image = cv2.resize(augment_image, (600,600))\n",
    "    gray_image = cv2.cvtColor(input_image, cv2.COLOR_BGR2GRAY)\n",
    "    # find the keypoints with ORB\n",
    "    keypoints, descriptors = detector.detectAndCompute(gray_image, None)\n",
    "\n",
    "    return gray_image,augment_image,keypoints, descriptors"
   ]
  },
  {
   "cell_type": "code",
   "execution_count": 4,
   "metadata": {},
   "outputs": [],
   "source": [
    "def compute_matches(descriptors_input, descriptors_output):\n",
    "    # Match descriptors\n",
    "    if(len(descriptors_output)!=0 and len(descriptors_input)!=0):\n",
    "        matches = flann.knnMatch(np.asarray(descriptors_input,np.float32),np.asarray(descriptors_output,np.float32),k=2)\n",
    "        good = []\n",
    "        for m,n in matches:\n",
    "            if m.distance < 0.69*n.distance:\n",
    "                good.append(m)\n",
    "        return good\n",
    "    else:\n",
    "        return None"
   ]
  },
  {
   "cell_type": "code",
   "execution_count": 5,
   "metadata": {
    "scrolled": true
   },
   "outputs": [
    {
     "ename": "error",
     "evalue": "OpenCV(4.4.0) /tmp/pip-req-build-qacpj5ci/opencv/modules/core/src/matmul.dispatch.cpp:531: error: (-215:Assertion failed) scn + 1 == m.cols in function 'perspectiveTransform'\n",
     "output_type": "error",
     "traceback": [
      "\u001b[0;31m---------------------------------------------------------------------------\u001b[0m",
      "\u001b[0;31merror\u001b[0m                                     Traceback (most recent call last)",
      "\u001b[0;32m<ipython-input-5-531f91a4bdf2>\u001b[0m in \u001b[0;36m<module>\u001b[0;34m\u001b[0m\n\u001b[1;32m     24\u001b[0m                                 \u001b[0;31m#matchesMask = mask.ravel().tolist()\u001b[0m\u001b[0;34m\u001b[0m\u001b[0;34m\u001b[0m\u001b[0;34m\u001b[0m\u001b[0m\n\u001b[1;32m     25\u001b[0m                                 \u001b[0mpts\u001b[0m \u001b[0;34m=\u001b[0m \u001b[0mnp\u001b[0m\u001b[0;34m.\u001b[0m\u001b[0mfloat32\u001b[0m\u001b[0;34m(\u001b[0m\u001b[0;34m[\u001b[0m \u001b[0;34m[\u001b[0m\u001b[0;36m0\u001b[0m\u001b[0;34m,\u001b[0m\u001b[0;36m0\u001b[0m\u001b[0;34m]\u001b[0m\u001b[0;34m,\u001b[0m\u001b[0;34m[\u001b[0m\u001b[0;36m0\u001b[0m\u001b[0;34m,\u001b[0m\u001b[0;36m399\u001b[0m\u001b[0;34m]\u001b[0m\u001b[0;34m,\u001b[0m\u001b[0;34m[\u001b[0m\u001b[0;36m299\u001b[0m\u001b[0;34m,\u001b[0m\u001b[0;36m399\u001b[0m\u001b[0;34m]\u001b[0m\u001b[0;34m,\u001b[0m\u001b[0;34m[\u001b[0m\u001b[0;36m299\u001b[0m\u001b[0;34m,\u001b[0m\u001b[0;36m0\u001b[0m\u001b[0;34m]\u001b[0m \u001b[0;34m]\u001b[0m\u001b[0;34m)\u001b[0m\u001b[0;34m.\u001b[0m\u001b[0mreshape\u001b[0m\u001b[0;34m(\u001b[0m\u001b[0;34m-\u001b[0m\u001b[0;36m1\u001b[0m\u001b[0;34m,\u001b[0m\u001b[0;36m1\u001b[0m\u001b[0;34m,\u001b[0m\u001b[0;36m2\u001b[0m\u001b[0;34m)\u001b[0m\u001b[0;34m\u001b[0m\u001b[0;34m\u001b[0m\u001b[0m\n\u001b[0;32m---> 26\u001b[0;31m                                 \u001b[0mdst\u001b[0m \u001b[0;34m=\u001b[0m \u001b[0mcv2\u001b[0m\u001b[0;34m.\u001b[0m\u001b[0mperspectiveTransform\u001b[0m\u001b[0;34m(\u001b[0m\u001b[0mpts\u001b[0m\u001b[0;34m,\u001b[0m\u001b[0mM\u001b[0m\u001b[0;34m)\u001b[0m\u001b[0;34m\u001b[0m\u001b[0;34m\u001b[0m\u001b[0m\n\u001b[0m\u001b[1;32m     27\u001b[0m                                 \u001b[0mM_aug\u001b[0m \u001b[0;34m=\u001b[0m \u001b[0mcv2\u001b[0m\u001b[0;34m.\u001b[0m\u001b[0mwarpPerspective\u001b[0m\u001b[0;34m(\u001b[0m\u001b[0maug_image\u001b[0m\u001b[0;34m,\u001b[0m \u001b[0mM\u001b[0m\u001b[0;34m,\u001b[0m \u001b[0;34m(\u001b[0m\u001b[0;36m600\u001b[0m\u001b[0;34m,\u001b[0m\u001b[0;36m450\u001b[0m\u001b[0;34m)\u001b[0m\u001b[0;34m)\u001b[0m\u001b[0;34m\u001b[0m\u001b[0;34m\u001b[0m\u001b[0m\n\u001b[1;32m     28\u001b[0m \u001b[0;34m\u001b[0m\u001b[0m\n",
      "\u001b[0;31merror\u001b[0m: OpenCV(4.4.0) /tmp/pip-req-build-qacpj5ci/opencv/modules/core/src/matmul.dispatch.cpp:531: error: (-215:Assertion failed) scn + 1 == m.cols in function 'perspectiveTransform'\n"
     ]
    }
   ],
   "source": [
    "if __name__=='__main__':\n",
    "\n",
    "\t#Getting Information form the Input image\n",
    "\tinput_image, aug_image, input_keypoints, input_descriptors = load_input()\n",
    "\n",
    "\tcap = cv2.VideoCapture(0)\n",
    "\tret, frame = cap.read()\n",
    "\n",
    "\twhile(ret):\n",
    "\t\tret, frame = cap.read()\n",
    "\t\tif(len(input_keypoints)<MIN_MATCHES):\n",
    "\t\t\tcontinue\n",
    "\t\tframe = cv2.resize(frame, (600,450))\n",
    "\t\tframe_bw = cv2.cvtColor(frame, cv2.COLOR_BGR2GRAY)\n",
    "\t\toutput_keypoints, output_descriptors = detector.detectAndCompute(frame_bw, None)\n",
    "\t\tmatches = compute_matches(input_descriptors, output_descriptors)\n",
    "\t\tif(matches!=None):\n",
    "\t\t\tif(len(matches)>10):\n",
    "\t\t\t\tsrc_pts = np.float32([ input_keypoints[m.queryIdx].pt for m in matches ]).reshape(-1,1,2)\n",
    "\t\t\t\tdst_pts = np.float32([ output_keypoints[m.trainIdx].pt for m in matches ]).reshape(-1,1,2)\n",
    "\n",
    "\t\t\t\t#Finally find the homography matrix\n",
    "\t\t\t\tM, mask = cv2.findHomography(src_pts, dst_pts, cv2.RANSAC,5.0)\n",
    "\t\t\t\t#matchesMask = mask.ravel().tolist()\n",
    "\t\t\t\tpts = np.float32([ [0,0],[0,399],[299,399],[299,0] ]).reshape(-1,1,2)\n",
    "\t\t\t\tdst = cv2.perspectiveTransform(pts,M)\n",
    "\t\t\t\tM_aug = cv2.warpPerspective(aug_image, M, (600,450))\n",
    "\n",
    "\t\t\t\t#getting the frame ready for addition operation with Mask Image\n",
    "\t\t\t\tframeb = cv2.fillConvexPoly(frame,dst.astype(int),0)\n",
    "\t\t\t\tFinal = frameb+M_aug\n",
    "\t\t\t\t\n",
    "\t\t\t\t#output_final = cv2.polylines(frame,[np.int32(dst)],True,255,3, cv2.LINE_AA)\n",
    "\t\t\t\tcv2.imshow('Final Output', Final)\n",
    "\t\t\t\t#cv2.imshow('Finallli', Final)\n",
    "\t\t\telse:\n",
    "\t\t\t\tcv2.imshow('Final Output', frame)\n",
    "\t\telse:\n",
    "\t\t\tcv2.imshow('Final Output', frame)\n",
    "\t\tkey = cv2.waitKey(15)\n",
    "\t\tif(key==27):\n",
    "\t\t\tbreak"
   ]
  },
  {
   "cell_type": "code",
   "execution_count": null,
   "metadata": {},
   "outputs": [],
   "source": []
  }
 ],
 "metadata": {
  "kernelspec": {
   "display_name": "Python 3",
   "language": "python",
   "name": "python3"
  },
  "language_info": {
   "codemirror_mode": {
    "name": "ipython",
    "version": 3
   },
   "file_extension": ".py",
   "mimetype": "text/x-python",
   "name": "python",
   "nbconvert_exporter": "python",
   "pygments_lexer": "ipython3",
   "version": "3.6.9"
  }
 },
 "nbformat": 4,
 "nbformat_minor": 4
}
